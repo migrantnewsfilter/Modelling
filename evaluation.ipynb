{
 "cells": [
  {
   "cell_type": "code",
   "execution_count": 3,
   "metadata": {
    "autoscroll": false,
    "collapsed": false,
    "ein.tags": "worksheet-0",
    "slideshow": {
     "slide_type": "-"
    }
   },
   "outputs": [],
   "source": [
    "!pip install --upgrade --quiet pip \n",
    "!pip install -I --upgrade --quiet setuptools\n",
    "!pip install --upgrade --quiet pymongo\n",
    "!pip install --quiet lightgbm"
   ]
  },
  {
   "cell_type": "code",
   "execution_count": null,
   "metadata": {
    "autoscroll": false,
    "collapsed": false,
    "ein.tags": "worksheet-0",
    "slideshow": {
     "slide_type": "-"
    }
   },
   "outputs": [],
   "source": [
    "% matplotlib inline\n",
    "%load_ext autoreload\n",
    "%autoreload 2\n",
    "import warnings\n",
    "warnings.filterwarnings('ignore')"
   ]
  },
  {
   "cell_type": "code",
   "execution_count": 817,
   "metadata": {
    "autoscroll": false,
    "collapsed": false,
    "ein.tags": "worksheet-0",
    "slideshow": {
     "slide_type": "-"
    }
   },
   "outputs": [],
   "source": [
    "import modelling.fetch as fetch\n",
    "from modelling.models import *\n",
    "from modelling.utils import get_articles\n",
    "import matplotlib.pyplot as plt\n",
    "import numpy as np\n",
    "from sklearn.ensemble import RandomForestClassifier\n",
    "from sklearn.metrics import *\n",
    "from pymongo import MongoClient\n",
    "from sklearn.model_selection import GridSearchCV\n",
    "from sklearn.metrics import fbeta_score, make_scorer\n",
    "import lightgbm"
   ]
  },
  {
   "cell_type": "code",
   "execution_count": 6,
   "metadata": {
    "autoscroll": false,
    "collapsed": false,
    "ein.tags": "worksheet-0",
    "slideshow": {
     "slide_type": "-"
    }
   },
   "outputs": [],
   "source": [
    "collection = MongoClient('209.177.92.45:80')['newsfilter'].news\n",
    "arts = get_articles(collection, label=True, src='tw', unique=True)"
   ]
  },
  {
   "cell_type": "code",
   "execution_count": 7,
   "metadata": {
    "autoscroll": false,
    "collapsed": false,
    "ein.tags": "worksheet-0",
    "slideshow": {
     "slide_type": "-"
    }
   },
   "outputs": [],
   "source": [
    "df = create_df(list(arts))"
   ]
  },
  {
   "cell_type": "code",
   "execution_count": 32,
   "metadata": {
    "autoscroll": false,
    "collapsed": false,
    "ein.tags": "worksheet-0",
    "slideshow": {
     "slide_type": "-"
    }
   },
   "outputs": [],
   "source": [
    "def group_by_ctx(li):\n",
    "    grouped = {}\n",
    "    for i in li:\n",
    "        try:\n",
    "            nd.concat(grouped[i.context.device_id], i, dim=1)\n",
    "        except KeyError:\n",
    "            grouped[i.context.device_id] = i\n",
    "    return grouped        "
   ]
  },
  {
   "cell_type": "code",
   "execution_count": null,
   "metadata": {
    "autoscroll": false,
    "collapsed": false,
    "ein.tags": "worksheet-0",
    "slideshow": {
     "slide_type": "-"
    }
   },
   "outputs": [],
   "source": [
    "from modelling.utils import preprocessor\n",
    "\n",
    "lookup = [\n",
    "    ('ge', 'title'),\n",
    "    ('tw', 'body'),\n",
    "    ('fa', 'title') \n",
    "]\n",
    "\n",
    "def prepare_df(df, preprocessor, lookup, out_key = 'body'):\n",
    "    \n",
    "    # [df[] for i,t in enumerate]\n",
    "    # unique = pd.concat([df[i].assign(text = df.iloc[i][t[2]]) \n",
    "    #                     for i,t in enumerate(lookup)] )\n",
    "    # unique['text'] = unique.text.map(preprocessor)\n",
    "    # unique = unique[unique.text.str.len() > 8]\n",
    "    return unique.rename({ 'text': out_key })"
   ]
  },
  {
   "cell_type": "code",
   "execution_count": null,
   "metadata": {
    "autoscroll": false,
    "collapsed": false,
    "ein.tags": "worksheet-0",
    "slideshow": {
     "slide_type": "-"
    }
   },
   "outputs": [],
   "source": [
    "def number(n):\n",
    "    try:\n",
    "        float(n)\n",
    "        return True\n",
    "    except:\n",
    "        return False\n",
    "\n",
    "df[df.cluster.map(number)].sort_values('added')"
   ]
  },
  {
   "cell_type": "code",
   "execution_count": 78,
   "metadata": {
    "autoscroll": false,
    "collapsed": false,
    "ein.tags": "worksheet-0",
    "slideshow": {
     "slide_type": "-"
    }
   },
   "outputs": [],
   "source": [
    "df['body'] = df.body.map(preprocessor)\n",
    "df = df.sort_values('added')"
   ]
  },
  {
   "cell_type": "code",
   "execution_count": 747,
   "metadata": {
    "autoscroll": false,
    "collapsed": false,
    "ein.tags": "worksheet-0",
    "slideshow": {
     "slide_type": "-"
    }
   },
   "outputs": [],
   "source": [
    "tfidf = create_tfidf(df)\n",
    "word_count = create_word_count(df).astype('float32')"
   ]
  },
  {
   "cell_type": "code",
   "execution_count": 158,
   "metadata": {
    "autoscroll": false,
    "collapsed": false,
    "ein.tags": "worksheet-0",
    "slideshow": {
     "slide_type": "-"
    }
   },
   "outputs": [],
   "source": [
    "from sklearn.model_selection import StratifiedKFold\n",
    "cv = StratifiedKFold(5, shuffle = True)\n",
    "\n",
    "def evaluate(model, tfidf, df, method = 'predict_proba', quiet = False):\n",
    "    ans = [1 if l == 'accepted' else 0 for l in df.label]\n",
    "    probs = cross_val_predict(model, tfidf, ans, cv=cv, method=method)\n",
    "    predictions = cross_val_predict(model, tfidf, ans, cv=cv, method='predict')\n",
    "\n",
    "    if method == 'predict_proba':\n",
    "        probs = [p[1] for p in probs] \n",
    "\n",
    "    if not quiet:\n",
    "        print (average_precision_score(ans, probs), roc_auc_score(ans, probs, average = None))\n",
    "        print (precision_score(ans, predictions), recall_score(ans, predictions), fbeta_score(ans, predictions, beta = 1.5))\n",
    "    # precision, recall, _ = precision_recall_curve(ans, guess)\n",
    "    fpr, tpr, _ = roc_curve(ans, probs)\n",
    "    plt.step(fpr, tpr)\n",
    "    # plt.step(precision, recall)\n",
    "    return probs, ans, predictions"
   ]
  },
  {
   "cell_type": "code",
   "execution_count": null,
   "metadata": {
    "autoscroll": false,
    "collapsed": false,
    "ein.tags": "worksheet-0",
    "slideshow": {
     "slide_type": "-"
    }
   },
   "outputs": [],
   "source": [
    "scorer = make_scorer(fbeta_score, beta = 1.5, pos_label = 'accepted')\n",
    "parameters = [{ }]\n",
    "grid = GridSearchCV(lightgbm.LGBMClassifier(n_estimators = 100, reg_lambda = 0.6, reg_alpha = 0.2), parameters, scoring = scorer)\n",
    "# p,a,pr = evaluate(model, tfidf, df)\n",
    "grid.fit(word_count, df.label)\n",
    "pd.DataFrame(grid.cv_results_).sort_values('rank_test_score')"
   ]
  },
  {
   "cell_type": "code",
   "execution_count": null,
   "metadata": {
    "autoscroll": false,
    "collapsed": false,
    "ein.tags": "worksheet-0",
    "slideshow": {
     "slide_type": "-"
    }
   },
   "outputs": [],
   "source": [
    "model = lightgbm.LGBMClassifier(n_estimators = 10, reg_lambda = 0.6, reg_alpha = 0.2)\n",
    "_ = evaluate(model, word_count, df)"
   ]
  },
  {
   "cell_type": "code",
   "execution_count": null,
   "metadata": {
    "autoscroll": false,
    "collapsed": false,
    "ein.tags": "worksheet-0",
    "slideshow": {
     "slide_type": "-"
    }
   },
   "outputs": [],
   "source": [
    "scorer = make_scorer(fbeta_score, beta = 1.5, pos_label = 'accepted')\n",
    "parameters = [{ }]\n",
    "model = svm.LinearSVC(dual = False, class_weight = 'balanced', C = 4., tol = 10e-6, max_iter = 4000)\n",
    "grid = GridSearchCV(model, parameters, scoring = scorer)\n",
    "# p,a,pr = evaluate(model, tfidf, df)\n",
    "grid.fit(word_count, df.label)\n",
    "pd.DataFrame(grid.cv_results_).sort_values('rank_test_score')"
   ]
  },
  {
   "cell_type": "code",
   "execution_count": null,
   "metadata": {
    "autoscroll": false,
    "collapsed": false,
    "ein.tags": "worksheet-0",
    "slideshow": {
     "slide_type": "slide"
    }
   },
   "outputs": [],
   "source": [
    "from sklearn import svm\n",
    "\n",
    "svc = svm.LinearSVC(dual = False,  tol = 10e-6, max_iter = 10000)\n",
    "g,a,p = evaluate(svc, tfidf, df, 'decision_function')"
   ]
  },
  {
   "cell_type": "code",
   "execution_count": null,
   "metadata": {
    "autoscroll": false,
    "collapsed": false,
    "ein.tags": "worksheet-0",
    "slideshow": {
     "slide_type": "-"
    }
   },
   "outputs": [],
   "source": [
    "nb = MultinomialNB(class_prior = [.4,.6])\n",
    "g, ans, preds = evaluate(nb, tfidf, df)"
   ]
  },
  {
   "cell_type": "code",
   "execution_count": null,
   "metadata": {
    "autoscroll": false,
    "collapsed": false,
    "ein.tags": "worksheet-0",
    "slideshow": {
     "slide_type": "-"
    }
   },
   "outputs": [],
   "source": [
    "from copy import deepcopy\n",
    "\n",
    "def rolling_cross_val_predict(model, X, y, start, window):\n",
    "    m = deepcopy(model)\n",
    "    model.fit()"
   ]
  },
  {
   "cell_type": "code",
   "execution_count": 795,
   "metadata": {
    "autoscroll": false,
    "collapsed": false,
    "ein.tags": "worksheet-0",
    "slideshow": {
     "slide_type": "-"
    }
   },
   "outputs": [],
   "source": [
    "from datetime import datetime, timedelta\n",
    "\n",
    "start = datetime.utcnow() - timedelta(weeks = 3)\n",
    "X, y, df = get_prediction_data(collection, label=True)\n",
    "X_new, _, _ = get_prediction_data(collection, label=False,start=start)"
   ]
  },
  {
   "cell_type": "code",
   "execution_count": 818,
   "metadata": {
    "autoscroll": false,
    "collapsed": false,
    "ein.tags": "worksheet-0",
    "slideshow": {
     "slide_type": "-"
    }
   },
   "outputs": [],
   "source": [
    "start = 0\n",
    "cutoff = 3000\n",
    "end = df.shape[0]\n",
    "\n",
    "X_train, y_train = X[start:cutoff], y[start:cutoff]\n",
    "X_test, y_test = X[cutoff:end], y[cutoff:end]\n",
    "preds = train_and_predict(X_train, y_train, X_test)"
   ]
  },
  {
   "cell_type": "code",
   "execution_count": 819,
   "metadata": {
    "autoscroll": false,
    "collapsed": false,
    "ein.tags": "worksheet-0",
    "slideshow": {
     "slide_type": "-"
    }
   },
   "outputs": [
    {
     "name": "stdout",
     "output_type": "stream",
     "text": [
      "0.627906976744 0.662576687117 0.65150812065\n"
     ]
    },
    {
     "data": {
      "text/plain": [
       "(172, 667)"
      ]
     },
     "execution_count": 819,
     "metadata": {},
     "output_type": "execute_result"
    }
   ],
   "source": [
    "ans = y_test\n",
    "p = preds > .5\n",
    "print (precision_score(ans, p), recall_score(ans, p), fbeta_score(ans, p, beta = 1.5))\n",
    "p.sum(), preds.shape[0]"
   ]
  }
 ],
 "metadata": {
  "kernelspec": {
   "display_name": "Python 3",
   "name": "python3"
  },
  "language_info": {
   "codemirror_mode": {
    "name": "ipython",
    "version": 3
   },
   "file_extension": ".py",
   "mimetype": "text/x-python",
   "name": "python",
   "nbconvert_exporter": "python",
   "pygments_lexer": "ipython3",
   "version": "3.6.2"
  },
  "name": "evaluation.ipynb"
 },
 "nbformat": 4,
 "nbformat_minor": 2
}
