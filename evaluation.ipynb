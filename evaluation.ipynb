{
 "cells": [
  {
   "cell_type": "code",
   "execution_count": 1,
   "metadata": {
    "autoscroll": false,
    "collapsed": false,
    "ein.tags": "worksheet-0",
    "slideshow": {
     "slide_type": "-"
    }
   },
   "outputs": [],
   "source": [
    "!pip install --upgrade --quiet pip \n",
    "!pip install -I --upgrade --quiet setuptools\n",
    "!pip install --upgrade --quiet tensorflow edward pymongo"
   ]
  },
  {
   "cell_type": "code",
   "execution_count": 2,
   "metadata": {
    "autoscroll": false,
    "collapsed": false,
    "ein.tags": "worksheet-0",
    "slideshow": {
     "slide_type": "-"
    }
   },
   "outputs": [],
   "source": [
    "% matplotlib inline"
   ]
  },
  {
   "cell_type": "code",
   "execution_count": 3,
   "metadata": {
    "autoscroll": false,
    "collapsed": false,
    "ein.tags": "worksheet-0",
    "slideshow": {
     "slide_type": "-"
    }
   },
   "outputs": [],
   "source": [
    "%load_ext autoreload\n",
    "%autoreload 2"
   ]
  },
  {
   "cell_type": "code",
   "execution_count": 68,
   "metadata": {
    "autoscroll": false,
    "collapsed": false,
    "ein.tags": "worksheet-0",
    "slideshow": {
     "slide_type": "-"
    }
   },
   "outputs": [],
   "source": [
    "import fetch.fetch as fetch\n",
    "from edward.models import Normal\n",
    "from modelling.models import *\n",
    "import matplotlib.pyplot as plt\n",
    "import numpy as np\n",
    "from sklearn.ensemble import RandomForestClassifier\n",
    "from sklearn.metrics import *"
   ]
  },
  {
   "cell_type": "code",
   "execution_count": 6,
   "metadata": {
    "autoscroll": false,
    "collapsed": false,
    "ein.tags": "worksheet-0",
    "slideshow": {
     "slide_type": "-"
    }
   },
   "outputs": [],
   "source": [
    "df = fetch.create_df(fetch.get_labelled_articles(\"209.177.92.45:80\"))"
   ]
  },
  {
   "cell_type": "code",
   "execution_count": 69,
   "metadata": {
    "autoscroll": false,
    "collapsed": false,
    "ein.tags": "worksheet-0",
    "slideshow": {
     "slide_type": "-"
    }
   },
   "outputs": [],
   "source": [
    "v = vectorizer(df)\n",
    "tfidf = create_tfidf(v, df)\n",
    "word_count = create_word_count(df)"
   ]
  },
  {
   "cell_type": "code",
   "execution_count": 326,
   "metadata": {
    "autoscroll": false,
    "collapsed": false,
    "ein.tags": "worksheet-0",
    "slideshow": {
     "slide_type": "-"
    }
   },
   "outputs": [
    {
     "name": "stdout",
     "output_type": "stream",
     "text": [
      "519\n",
      "0.709406494961\n",
      "0.717011995638\n",
      "0.906888031411\n"
     ]
    }
   ],
   "source": [
    "model = MultinomialNB(class_prior=[.9,.1])\n",
    "# errors = add_predictions(model, df, cv = 10\n",
    "# ans = [1 if l == 'accepted' else 0 for l in df.label]\n",
    "\n",
    "prediction_probs = cross_val_predict(model, tfidf, df.label, cv=10, method = 'predict_proba')\n",
    "predictions = cross_val_predict(model, tfidf, df.label, cv=10, method = 'predict')\n",
    "# errors.shape\n",
    "preds = ['accepted' if p[0] >= 0.5 else 'rejected' for p in prediction_probs]\n",
    "# np.sum(np.round(preds) != np.array(ans))\n",
    "\n",
    "print(np.sum(predictions != df.label))\n",
    "\n",
    "print(roc_auc_score(df.label == 'accepted', predictions == 'accepted'))\n",
    "print(precision_score(df.label == 'accepted', predictions == 'accepted'))\n",
    "print(average_precision_score(df.label == 'accepted', [p[0] for p in prediction_probs]))"
   ]
  },
  {
   "cell_type": "code",
   "execution_count": 70,
   "metadata": {
    "autoscroll": false,
    "collapsed": false,
    "ein.tags": "worksheet-0",
    "slideshow": {
     "slide_type": "-"
    }
   },
   "outputs": [
    {
     "data": {
      "text/plain": [
       "(893, 10)"
      ]
     },
     "execution_count": 70,
     "metadata": {},
     "output_type": "execute_result"
    }
   ],
   "source": [
    "df[df.label != 'accepted'].shape"
   ]
  },
  {
   "cell_type": "code",
   "execution_count": 74,
   "metadata": {
    "autoscroll": false,
    "collapsed": false,
    "ein.tags": "worksheet-0",
    "slideshow": {
     "slide_type": "-"
    }
   },
   "outputs": [],
   "source": [
    "def evaluate(model, tfidf, df, method = 'predict_proba'):\n",
    "    ans = [1 if l == 'accepted' else 0 for l in df.label]\n",
    "    probs = cross_val_predict(model, tfidf, ans, cv=10, method=method)\n",
    "    predictions = cross_val_predict(model, tfidf, ans, cv=10, method='predict')\n",
    "\n",
    "    probs = probs if method == 'decision_function' else [p[1] for p in probs] \n",
    "                           \n",
    "    print (average_precision_score(ans, probs), roc_auc_score(ans, probs, average = None))\n",
    "    print (precision_score(ans, predictions), recall_score(ans, predictions), f1_score(ans, predictions))\n",
    "    # precision, recall, _ = precision_recall_curve(ans, guess)\n",
    "    fpr, tpr, _ = roc_curve(ans, probs)\n",
    "    plt.step(fpr, tpr)\n",
    "    # plt.step(precision, recall)\n",
    "    return probs, ans, predictions"
   ]
  },
  {
   "cell_type": "code",
   "execution_count": null,
   "metadata": {
    "autoscroll": false,
    "collapsed": false,
    "ein.tags": "worksheet-0",
    "slideshow": {
     "slide_type": "-"
    }
   },
   "outputs": [],
   "source": [
    "from sklearn.ensemble import GradientBoostingClassifier\n",
    "\n",
    "model = GradientBoostingClassifier()\n",
    "evaluate(model, tfidf.toarray(), df)"
   ]
  },
  {
   "cell_type": "code",
   "execution_count": 75,
   "metadata": {
    "autoscroll": false,
    "collapsed": false,
    "ein.tags": "worksheet-0",
    "slideshow": {
     "slide_type": "-"
    }
   },
   "outputs": [
    {
     "data": {
      "text/plain": [
       "<matplotlib.figure.Figure at 0x7f4416f81eb8>"
      ]
     },
     "metadata": {},
     "output_type": "display_data"
    },
    {
     "name": "stdout",
     "output_type": "stream",
     "text": [
      "0.788921864084 0.747265533308\n",
      "0.631553631554 1.0 0.774174528302\n"
     ]
    }
   ],
   "source": [
    "model = RandomForestClassifier(200, max_depth = 3)\n",
    "p, a, _ = evaluate(model, word_count, df)"
   ]
  },
  {
   "cell_type": "code",
   "execution_count": 77,
   "metadata": {
    "autoscroll": false,
    "collapsed": false,
    "ein.tags": "worksheet-0",
    "slideshow": {
     "slide_type": "-"
    }
   },
   "outputs": [
    {
     "data": {
      "text/plain": [
       "<matplotlib.figure.Figure at 0x7f4416f81080>"
      ]
     },
     "metadata": {},
     "output_type": "display_data"
    },
    {
     "name": "stdout",
     "output_type": "stream",
     "text": [
      "0.913129243774 0.894070129339\n",
      "0.738550724638 0.970297029703 0.838709677419\n"
     ]
    }
   ],
   "source": [
    "from sklearn import svm\n",
    "\n",
    "model = svm.LinearSVC()\n",
    "g,a,p = evaluate(model, word_count, df, 'decision_function')"
   ]
  },
  {
   "cell_type": "code",
   "execution_count": null,
   "metadata": {
    "autoscroll": false,
    "collapsed": false,
    "ein.tags": "worksheet-0",
    "slideshow": {
     "slide_type": "-"
    }
   },
   "outputs": [],
   "source": [
    "model = svm.OneClassSVM()\n",
    "g,a,p = evaluate(model, tfidf, df, 'decision_function')"
   ]
  },
  {
   "cell_type": "code",
   "execution_count": 76,
   "metadata": {
    "autoscroll": false,
    "collapsed": false,
    "ein.tags": "worksheet-0",
    "slideshow": {
     "slide_type": "-"
    }
   },
   "outputs": [
    {
     "data": {
      "text/plain": [
       "<matplotlib.figure.Figure at 0x7f44176e0358>"
      ]
     },
     "metadata": {},
     "output_type": "display_data"
    },
    {
     "name": "stdout",
     "output_type": "stream",
     "text": [
      "0.912042278343 0.899900027526\n",
      "0.842391304348 0.708301599391 0.76954902772\n"
     ]
    }
   ],
   "source": [
    "model = MultinomialNB(alpha = .001, class_prior = [0.5,0.5])\n",
    "g, ans, preds = evaluate(model, word_count, df)"
   ]
  }
 ],
 "metadata": {
  "kernelspec": {
   "display_name": "Python 3",
   "name": "python3"
  },
  "name": "Untitled.ipynb"
 },
 "nbformat": 4,
 "nbformat_minor": 2
}
