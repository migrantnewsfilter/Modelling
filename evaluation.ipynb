{
 "cells": [
  {
   "cell_type": "code",
   "execution_count": 1,
   "metadata": {
    "autoscroll": false,
    "collapsed": false,
    "ein.tags": "worksheet-0",
    "slideshow": {
     "slide_type": "-"
    }
   },
   "outputs": [],
   "source": [
    "!pip install --upgrade --quiet pip \n",
    "!pip install -I --upgrade --quiet setuptools\n",
    "!pip install --upgrade --quiet tensorflow edward pymongo\n",
    "!pip install --quiet lightgbm"
   ]
  },
  {
   "cell_type": "code",
   "execution_count": 2,
   "metadata": {
    "autoscroll": false,
    "collapsed": false,
    "ein.tags": "worksheet-0",
    "slideshow": {
     "slide_type": "-"
    }
   },
   "outputs": [],
   "source": [
    "% matplotlib inline"
   ]
  },
  {
   "cell_type": "code",
   "execution_count": 3,
   "metadata": {
    "autoscroll": false,
    "collapsed": false,
    "ein.tags": "worksheet-0",
    "slideshow": {
     "slide_type": "-"
    }
   },
   "outputs": [],
   "source": [
    "%load_ext autoreload\n",
    "%autoreload 2"
   ]
  },
  {
   "cell_type": "code",
   "execution_count": 4,
   "metadata": {
    "autoscroll": false,
    "collapsed": false,
    "ein.tags": "worksheet-0",
    "slideshow": {
     "slide_type": "-"
    }
   },
   "outputs": [],
   "source": [
    "import fetch.fetch as fetch\n",
    "from edward.models import Normal\n",
    "from modelling.models import *\n",
    "import matplotlib.pyplot as plt\n",
    "import numpy as np\n",
    "from sklearn.ensemble import RandomForestClassifier\n",
    "from sklearn.metrics import *"
   ]
  },
  {
   "cell_type": "code",
   "execution_count": 5,
   "metadata": {
    "autoscroll": false,
    "collapsed": false,
    "ein.tags": "worksheet-0",
    "slideshow": {
     "slide_type": "-"
    }
   },
   "outputs": [],
   "source": [
    "df = fetch.create_df(fetch.get_labelled_articles(\"209.177.92.45:80\"))"
   ]
  },
  {
   "cell_type": "code",
   "execution_count": 6,
   "metadata": {
    "autoscroll": false,
    "collapsed": false,
    "ein.tags": "worksheet-0",
    "slideshow": {
     "slide_type": "-"
    }
   },
   "outputs": [],
   "source": [
    "v = vectorizer(df)\n",
    "tfidf = create_tfidf(v, df)\n",
    "word_count = create_word_count(df)"
   ]
  },
  {
   "cell_type": "code",
   "execution_count": 7,
   "metadata": {
    "autoscroll": false,
    "collapsed": false,
    "ein.tags": "worksheet-0",
    "slideshow": {
     "slide_type": "-"
    }
   },
   "outputs": [
    {
     "name": "stdout",
     "output_type": "stream",
     "text": [
      "561\n",
      "0.692434210526\n",
      "0.700640341515\n",
      "0.896046619616\n"
     ]
    }
   ],
   "source": [
    "model = MultinomialNB(class_prior=[.9,.1])\n",
    "# errors = add_predictions(model, df, cv = 10\n",
    "# ans = [1 if l == 'accepted' else 0 for l in df.label]\n",
    "\n",
    "prediction_probs = cross_val_predict(model, tfidf, df.label, cv=10, method = 'predict_proba')\n",
    "predictions = cross_val_predict(model, tfidf, df.label, cv=10, method = 'predict')\n",
    "# errors.shape\n",
    "preds = ['accepted' if p[0] >= 0.5 else 'rejected' for p in prediction_probs]\n",
    "# np.sum(np.round(preds) != np.array(ans))\n",
    "\n",
    "print(np.sum(predictions != df.label))\n",
    "\n",
    "print(roc_auc_score(df.label == 'accepted', predictions == 'accepted'))\n",
    "print(precision_score(df.label == 'accepted', predictions == 'accepted'))\n",
    "print(average_precision_score(df.label == 'accepted', [p[0] for p in prediction_probs]))"
   ]
  },
  {
   "cell_type": "code",
   "execution_count": 70,
   "metadata": {
    "autoscroll": false,
    "collapsed": false,
    "ein.tags": "worksheet-0",
    "slideshow": {
     "slide_type": "-"
    }
   },
   "outputs": [
    {
     "data": {
      "text/plain": [
       "(893, 10)"
      ]
     },
     "execution_count": 70,
     "metadata": {},
     "output_type": "execute_result"
    }
   ],
   "source": [
    "df[df.label != 'accepted'].shape"
   ]
  },
  {
   "cell_type": "code",
   "execution_count": 133,
   "metadata": {
    "autoscroll": false,
    "collapsed": false,
    "ein.tags": "worksheet-0",
    "slideshow": {
     "slide_type": "-"
    }
   },
   "outputs": [],
   "source": [
    "from sklearn.model_selection import StratifiedKFold\n",
    "cv = StratifiedKFold(5, shuffle = True)\n",
    "\n",
    "def evaluate(model, tfidf, df, method = 'predict_proba'):\n",
    "    ans = [1 if l == 'accepted' else 0 for l in df.label]\n",
    "    probs = cross_val_predict(model, tfidf, ans, cv=cv, method=method)\n",
    "    predictions = cross_val_predict(model, tfidf, ans, cv=cv, method='predict')\n",
    "\n",
    "    probs = probs if method == 'decision_function' else [p[1] for p in probs] \n",
    "                           \n",
    "    print (average_precision_score(ans, probs), roc_auc_score(ans, probs, average = None))\n",
    "    print (precision_score(ans, predictions), recall_score(ans, predictions), fbeta_score(ans, predictions, beta = 1.5))\n",
    "    # precision, recall, _ = precision_recall_curve(ans, guess)\n",
    "    fpr, tpr, _ = roc_curve(ans, probs)\n",
    "    plt.step(fpr, tpr)\n",
    "    # plt.step(precision, recall)\n",
    "    return probs, ans, predictions"
   ]
  },
  {
   "cell_type": "code",
   "execution_count": 23,
   "metadata": {
    "autoscroll": false,
    "collapsed": false,
    "ein.tags": "worksheet-0",
    "slideshow": {
     "slide_type": "-"
    }
   },
   "outputs": [],
   "source": [
    "from sklearn.model_selection import GridSearchCV\n",
    "\n"
   ]
  },
  {
   "cell_type": "code",
   "execution_count": 115,
   "metadata": {
    "autoscroll": false,
    "collapsed": false,
    "ein.tags": "worksheet-0",
    "slideshow": {
     "slide_type": "-"
    }
   },
   "outputs": [
    {
     "data": {
      "text/plain": [
       "   mean_fit_time  mean_score_time  mean_test_score  mean_train_score params  \\\n0       0.120874         0.014947         0.855022          0.933722     {}   \n\n   rank_test_score  split0_test_score  split0_train_score  split1_test_score  \\\n0                1           0.763403            0.950115           0.907191   \n\n   split1_train_score  split2_test_score  split2_train_score  std_fit_time  \\\n0            0.907645           0.894525            0.943406      0.008145   \n\n   std_score_time  std_test_score  std_train_score  \n0        0.005974        0.065012         0.018641  "
      ]
     },
     "execution_count": 115,
     "metadata": {},
     "output_type": "execute_result"
    }
   ],
   "source": [
    "import lightgbm\n",
    "from sklearn.metrics import fbeta_score, make_scorer\n",
    "\n",
    "model = lightgbm.LGBMClassifier(n_estimators = 30)\n",
    "scorer = make_scorer(fbeta_score, beta = 1.5, pos_label = 'accepted')\n",
    "parameters = [{ }]\n",
    "grid = GridSearchCV(lightgbm.LGBMClassifier(max_depth = 2, n_estimators = 100, reg_lambda = 0.4, reg_alpha = 0.4), parameters, scoring = scorer)\n",
    "# p,a,pr = evaluate(model, tfidf, df)\n",
    "grid.fit(word_count, df.label)\n",
    "pd.DataFrame(grid.cv_results_).sort_values('rank_test_score')"
   ]
  },
  {
   "cell_type": "code",
   "execution_count": 141,
   "metadata": {
    "autoscroll": false,
    "collapsed": false,
    "ein.tags": "worksheet-0",
    "slideshow": {
     "slide_type": "-"
    }
   },
   "outputs": [
    {
     "data": {
      "text/plain": [
       "                          _id                   added  cluster     label  \\\n0     ge:11721998312442412795 2016-11-06 06:19:17.960      NaN  accepted   \n1      ge:1620759028784135434 2016-11-06 06:19:17.959      NaN  rejected   \n2     ge:18239534028951138362 2016-11-06 06:19:17.959      NaN  rejected   \n3     ge:12121811051108214999 2016-11-06 06:19:17.960      NaN  accepted   \n4      ge:8991470599314538820 2016-11-06 06:19:17.960      NaN  rejected   \n5     ge:12075882848350770687 2016-11-06 06:19:17.961      NaN  rejected   \n6     ge:15428506610722352235 2016-11-06 06:19:17.961      NaN  accepted   \n7      ge:5055609828518538266 2016-11-06 06:19:17.961      NaN  accepted   \n8      ge:5637883152692138122 2016-11-06 06:19:17.961      NaN  accepted   \n9      ge:7581265598718420349 2016-11-06 06:19:17.961      NaN  accepted   \n10    ge:17574053986436593806 2016-11-06 06:19:17.961      NaN  rejected   \n11     ge:8532986235004036463 2016-11-06 06:19:17.962      NaN  rejected   \n12    ge:11097084713648916708 2016-11-06 06:19:17.962      NaN  accepted   \n13     ge:6385880623517463435 2016-11-06 06:19:17.962      NaN  accepted   \n14      ge:907512965892529661 2016-11-06 06:19:18.042      NaN  accepted   \n15     ge:4585198766804920633 2016-11-06 06:19:17.962      NaN  accepted   \n16     ge:3566020995755398594 2016-11-06 06:19:18.042      NaN  accepted   \n17      ge:316622218493551866 2016-11-06 06:19:18.324      NaN  rejected   \n18    ge:14907129078355386481 2016-11-06 06:19:17.962      NaN  accepted   \n19     ge:3133320939969540851 2016-11-06 06:19:18.324      NaN  rejected   \n20     ge:1447440025041470253 2016-11-06 06:19:18.323      NaN  rejected   \n21    ge:15989199189203923014 2016-11-06 06:19:18.325      NaN  rejected   \n22    ge:10211448355199012204 2016-11-06 06:19:18.325      NaN  accepted   \n23    ge:10489685643132300613 2016-11-06 06:19:18.326      NaN  accepted   \n24    ge:12482581156354682783 2016-11-06 06:19:18.326      NaN  rejected   \n25    ge:13717773139616612422 2016-11-06 06:19:18.327      NaN  accepted   \n26     ge:2122754726012477554 2016-11-06 06:19:18.327      NaN  accepted   \n27    ge:13299872926777373676 2016-11-06 06:19:18.327      NaN  accepted   \n28     ge:9763696746911326450 2016-11-06 06:19:18.328      NaN  accepted   \n29     ge:5962191464894889476 2016-11-06 06:19:17.962      NaN  accepted   \n...                       ...                     ...      ...       ...   \n2195    tw:872388606740115456 2017-06-07 09:43:46.304  20085.0  rejected   \n2196    tw:872389187646799873 2017-06-07 09:46:04.918  20085.0  rejected   \n2197    tw:872389453733605376 2017-06-07 09:47:08.365  20085.0  rejected   \n2198    tw:872389619316346880 2017-06-07 09:47:47.754  20085.0  rejected   \n2199    tw:872389910208143360 2017-06-07 09:48:57.111  20085.0  rejected   \n2200    tw:872389932043599872 2017-06-07 09:49:02.319  20085.0  rejected   \n2201    tw:872390171265773568 2017-06-07 09:49:59.367  20085.0  rejected   \n2202    tw:872390711613820928 2017-06-07 09:52:08.265  20085.0  rejected   \n2203    tw:872390841054244865 2017-06-07 09:52:39.048  20085.0  rejected   \n2204    tw:872391257104019457 2017-06-07 09:54:18.262  20085.0  rejected   \n2205    tw:872392342329864193 2017-06-07 09:58:37.082  20085.0  rejected   \n2206    tw:872393335125815296 2017-06-07 10:02:33.687  20085.0  rejected   \n2207    tw:872394126980939776 2017-06-07 10:05:42.560  20085.0  rejected   \n2208    tw:872394345172926464 2017-06-07 10:06:34.642  20085.0  rejected   \n2209    tw:872394640070234113 2017-06-07 10:07:44.773  20085.0  rejected   \n2210    tw:872394984682639360 2017-06-07 10:09:06.978  20085.0  rejected   \n2211    tw:872395310995320832 2017-06-07 10:10:24.779  20085.0  rejected   \n2212    tw:872395402049232896 2017-06-07 10:10:46.494  20085.0  rejected   \n2213    tw:872395494961668096 2017-06-07 10:11:08.682  20085.0  rejected   \n2214    tw:872395707839373312 2017-06-07 10:11:59.366  20085.0  rejected   \n2215    tw:872395924923756544 2017-06-07 10:12:51.188  20085.0  rejected   \n2216   ge:2337358925373992737 2017-07-01 23:20:28.282  10036.0  rejected   \n2217   ge:9536357018077080382 2017-07-02 05:20:15.235  10036.0  rejected   \n2218  ge:17886586455694862571 2017-07-03 04:20:16.901  10035.0  rejected   \n2219   ge:2854295572065506470 2017-07-03 22:20:18.979  10035.0  rejected   \n2220   ge:6354504045071840564 2017-08-26 07:20:15.030  10066.0  rejected   \n2221  ge:17893287862902021966 2017-08-26 07:20:15.230  10066.0  rejected   \n2222   ge:7005743858641879831 2017-08-28 16:20:14.550  10022.0  rejected   \n2223   ge:7533888209182871194 2017-08-28 16:20:14.552  10022.0  rejected   \n2224  ge:17472927813033685317 2017-08-28 20:20:28.994  10022.0  rejected   \n\n      prediction           published         author  \\\n0            NaN 2016-11-05 05:18:37            NaN   \n1            NaN 2016-11-05 10:25:00            NaN   \n2            NaN 2016-11-05 05:42:40            NaN   \n3            NaN 2016-11-05 00:27:03            NaN   \n4            NaN 2016-11-04 23:51:46            NaN   \n5            NaN 2016-11-04 22:29:01            NaN   \n6            NaN 2016-11-04 20:47:54            NaN   \n7            NaN 2016-11-04 20:46:45            NaN   \n8            NaN 2016-11-04 19:40:02            NaN   \n9            NaN 2016-11-04 18:17:26            NaN   \n10           NaN 2016-11-04 16:38:45            NaN   \n11           NaN 2016-11-04 16:10:30            NaN   \n12           NaN 2016-11-04 14:11:13            NaN   \n13           NaN 2016-11-04 13:35:43            NaN   \n14           NaN 2016-11-05 07:52:32            NaN   \n15           NaN 2016-11-04 13:17:15            NaN   \n16           NaN 2016-11-05 05:09:53            NaN   \n17           NaN 2016-11-05 03:01:49            NaN   \n18           NaN 2016-11-04 11:06:02            NaN   \n19           NaN 2016-11-05 00:23:41            NaN   \n20           NaN 2016-11-05 03:52:52            NaN   \n21           NaN 2016-11-04 23:20:19            NaN   \n22           NaN 2016-11-04 20:54:05            NaN   \n23           NaN 2016-11-04 20:08:51            NaN   \n24           NaN 2016-11-04 18:51:53            NaN   \n25           NaN 2016-11-04 18:36:50            NaN   \n26           NaN 2016-11-04 17:56:38            NaN   \n27           NaN 2016-11-04 17:55:36            NaN   \n28           NaN 2016-11-04 16:31:04            NaN   \n29           NaN 2016-11-04 11:32:48            NaN   \n...          ...                 ...            ...   \n2195         3.0 2017-06-07 09:43:46        sadyose   \n2196         3.0 2017-06-07 09:46:05     mulanaCoke   \n2197         3.0 2017-06-07 09:47:08     ntobekoo_s   \n2198         3.0 2017-06-07 09:47:48     beth_oshea   \n2199         3.0 2017-06-07 09:48:57      sherry477   \n2200         3.0 2017-06-07 09:49:02        syrafs_   \n2201         3.0 2017-06-07 09:49:59  manishaaxxxxx   \n2202         3.0 2017-06-07 09:52:08         Paul9H   \n2203         3.0 2017-06-07 09:52:39      justzeemo   \n2204         3.0 2017-06-07 09:54:18  PaddyGrennan4   \n2205         3.0 2017-06-07 09:58:37        Arsall1   \n2206         3.0 2017-06-07 10:02:34      alanariif   \n2207         3.0 2017-06-07 10:05:42   naima_awil99   \n2208         3.0 2017-06-07 10:06:34     hammadadad   \n2209         3.0 2017-06-07 10:07:45  tajia_jaifory   \n2210         3.0 2017-06-07 10:09:07      abzzzzz97   \n2211         3.0 2017-06-07 10:10:25        rxrahim   \n2212         3.0 2017-06-07 10:10:46  aurangzaib_dk   \n2213         3.0 2017-06-07 10:11:08      Bilal_F18   \n2214         3.0 2017-06-07 10:11:59    bilalhassam   \n2215         3.0 2017-06-07 10:12:51   pjangeerkhan   \n2216         4.0 2017-07-01 21:00:00            NaN   \n2217         4.0 2017-07-01 21:05:19            NaN   \n2218         1.0 2017-07-02 14:58:12            NaN   \n2219         1.0 2017-07-03 15:00:04            NaN   \n2220         4.0 2017-08-26 06:22:30            NaN   \n2221         4.0 2017-08-26 06:22:30            NaN   \n2222         3.0 2017-08-28 12:33:45            NaN   \n2223         2.0 2017-08-28 06:52:01            NaN   \n2224         2.0 2017-08-28 12:33:45            NaN   \n\n                                                   body  \\\n0     At least 239 <b>migrants</b>, believed to be f...   \n1     &quot;Nobody <b>died</b>,&quot; he says. With ...   \n2     As the number of <b>migrants</b>&#39; deaths i...   \n3     GENEVA, Nov 3 : At least 239 <b>migrants</b>, ...   \n4     Life is after <b>death</b>, not here. They&#39...   \n5     So denken US-Demokraten wirklich über Deutschl...   \n6     There was panic as refugees fell into the wate...   \n7     By Dipo Olowookere. Reports said two children,...   \n8     Waseb TV is a Saraiki language channel. Its pr...   \n9     Spokesperson for the UN Refugee Agency: Carlot...   \n10    It sets out principles which should be at the ...   \n11    Gambia football star who dreamed of playing fo...   \n12    Breaking news, kenya news, county news, politi...   \n13    BRUSSELS — At least 239 migrants are believed ...   \n14    Two <b>refugee</b> boats capsized this week in...   \n15    According to authorities, 180 <b>migrants</b> ...   \n16    Two <b>refugee</b> boats capsized this week in...   \n17    Missionary in Jordan: God&#39;s mercy for <b>r...   \n18    Two very young children, whose mother <b>died<...   \n19    In the summer of 2015, Europe experienced the ...   \n20    In Ahmed, he talks about Europe&#39;s &#39;<b>...   \n21    The Kenyan government&#39;s threat to close th...   \n22    ROME — UN <b>refugee</b> agency says survivor ...   \n23    admin 18 hours ago News hundreds feared <b>dea...   \n24    The Action Group for Palestinians of Syria rec...   \n25    INTERNATIONAL NEWS DIGEST Pt.1 Topic: Hundreds...   \n26    Hundreds of <b>refugees</b> feared <b>dead</b>...   \n27    Hundreds feared <b>dead</b> in <b>refugee</b> ...   \n28    Almost 240 feared <b>dead</b> after 2 migrant ...   \n29    Daily Times. At least 239 <b>migrants</b>, bel...   \n...                                                 ...   \n2195  RT @mehdirhasan: Woman who called for gunships...   \n2196  RT @mehdirhasan: Woman who called for gunships...   \n2197  RT @mehdirhasan: Woman who called for gunships...   \n2198  RT @mehdirhasan: Woman who called for gunships...   \n2199  RT @mehdirhasan: Woman who called for gunships...   \n2200  RT @mehdirhasan: Woman who called for gunships...   \n2201  RT @mehdirhasan: Woman who called for gunships...   \n2202  RT @mehdirhasan: Woman who called for gunships...   \n2203  RT @mehdirhasan: Woman who called for gunships...   \n2204  RT @mehdirhasan: Woman who called for gunships...   \n2205  RT @mehdirhasan: Woman who called for gunships...   \n2206  RT @mehdirhasan: Woman who called for gunships...   \n2207  RT @mehdirhasan: Woman who called for gunships...   \n2208  RT @mehdirhasan: Woman who called for gunships...   \n2209  RT @mehdirhasan: Woman who called for gunships...   \n2210  RT @mehdirhasan: Woman who called for gunships...   \n2211  RT @mehdirhasan: Woman who called for gunships...   \n2212  RT @mehdirhasan: Woman who called for gunships...   \n2213  RT @mehdirhasan: Woman who called for gunships...   \n2214  RT @mehdirhasan: Woman who called for gunships...   \n2215  RT @mehdirhasan: Woman who called for gunships...   \n2216  Italy's threat to close ports from migrant res...   \n2217  She said that the MSF vessels have rescued 7,0...   \n2218  BURKE Norma (Olive) 27/9/25 - 30/6/17 Passed a...   \n2219  BURKE Norma (Olive) 27/9/1925-30/6/2017 Passed...   \n2220  An estimated 2,420 migrants and refugees died ...   \n2221  An estimated 2,420 migrants and refugees died ...   \n2222  More than 2,400 have drowned while making the ...   \n2223  France holds migration summit after backtracki...   \n2224  PARIS, Aug 28 (Reuters) - Getting Europe's mig...   \n\n                                                   link  \\\n0     https://www.google.com/url?rct=j&sa=t&url=http...   \n1     https://www.google.com/url?rct=j&sa=t&url=http...   \n2     https://www.google.com/url?rct=j&sa=t&url=http...   \n3     https://www.google.com/url?rct=j&sa=t&url=http...   \n4     https://www.google.com/url?rct=j&sa=t&url=http...   \n5     https://www.google.com/url?rct=j&sa=t&url=http...   \n6     https://www.google.com/url?rct=j&sa=t&url=http...   \n7     https://www.google.com/url?rct=j&sa=t&url=http...   \n8     https://www.google.com/url?rct=j&sa=t&url=http...   \n9     https://www.google.com/url?rct=j&sa=t&url=http...   \n10    https://www.google.com/url?rct=j&sa=t&url=http...   \n11    https://www.google.com/url?rct=j&sa=t&url=http...   \n12    https://www.google.com/url?rct=j&sa=t&url=http...   \n13    https://www.google.com/url?rct=j&sa=t&url=http...   \n14    https://www.google.com/url?rct=j&sa=t&url=http...   \n15    https://www.google.com/url?rct=j&sa=t&url=http...   \n16    https://www.google.com/url?rct=j&sa=t&url=http...   \n17    https://www.google.com/url?rct=j&sa=t&url=http...   \n18    https://www.google.com/url?rct=j&sa=t&url=http...   \n19    https://www.google.com/url?rct=j&sa=t&url=http...   \n20    https://www.google.com/url?rct=j&sa=t&url=http...   \n21    https://www.google.com/url?rct=j&sa=t&url=http...   \n22    https://www.google.com/url?rct=j&sa=t&url=http...   \n23    https://www.google.com/url?rct=j&sa=t&url=http...   \n24    https://www.google.com/url?rct=j&sa=t&url=http...   \n25    https://www.google.com/url?rct=j&sa=t&url=http...   \n26    https://www.google.com/url?rct=j&sa=t&url=http...   \n27    https://www.google.com/url?rct=j&sa=t&url=http...   \n28    https://www.google.com/url?rct=j&sa=t&url=http...   \n29    https://www.google.com/url?rct=j&sa=t&url=http...   \n...                                                 ...   \n2195  https://twitter.com/sadyose/status/tw:87238860...   \n2196  https://twitter.com/mulanaCoke/status/tw:87238...   \n2197  https://twitter.com/ntobekoo_s/status/tw:87238...   \n2198  https://twitter.com/beth_oshea/status/tw:87238...   \n2199  https://twitter.com/sherry477/status/tw:872389...   \n2200  https://twitter.com/syrafs_/status/tw:87238993...   \n2201  https://twitter.com/manishaaxxxxx/status/tw:87...   \n2202  https://twitter.com/Paul9H/status/tw:872390711...   \n2203  https://twitter.com/justzeemo/status/tw:872390...   \n2204  https://twitter.com/PaddyGrennan4/status/tw:87...   \n2205  https://twitter.com/Arsall1/status/tw:87239234...   \n2206  https://twitter.com/alanariif/status/tw:872393...   \n2207  https://twitter.com/naima_awil99/status/tw:872...   \n2208  https://twitter.com/hammadadad/status/tw:87239...   \n2209  https://twitter.com/tajia_jaifory/status/tw:87...   \n2210  https://twitter.com/abzzzzz97/status/tw:872394...   \n2211  https://twitter.com/rxrahim/status/tw:87239531...   \n2212  https://twitter.com/aurangzaib_dk/status/tw:87...   \n2213  https://twitter.com/Bilal_F18/status/tw:872395...   \n2214  https://twitter.com/bilalhassam/status/tw:8723...   \n2215  https://twitter.com/pjangeerkhan/status/tw:872...   \n2216  https://www.google.com/url?rct=j&sa=t&url=http...   \n2217  https://www.google.com/url?rct=j&sa=t&url=http...   \n2218  https://www.google.com/url?rct=j&sa=t&url=http...   \n2219  https://www.google.com/url?rct=j&sa=t&url=http...   \n2220  https://www.google.com/url?rct=j&sa=t&url=http...   \n2221  https://www.google.com/url?rct=j&sa=t&url=http...   \n2222  https://www.google.com/url?rct=j&sa=t&url=http...   \n2223  https://www.google.com/url?rct=j&sa=t&url=http...   \n2224  https://www.google.com/url?rct=j&sa=t&url=http...   \n\n                                                  title  \n0                    239 <b>migrants die</b> in the Med  \n1     Italy Becomes A Leading Destination For <b>Mig...  \n2     Irregular <b>Migration</b>: Senate Joins Force...  \n3     UN says 239 <b>migrants die</b> in two shipwre...  \n4     Remains of <b>migrant</b> life strewn across t...  \n5     Germany&#39;s Übergutmenschen and 7 million Lu...  \n6     239 <b>migrants die</b> in two shipwrecks off ...  \n7     Over 240 <b>Migrants</b> Perish In Mediterrane...  \n8     UN says 239 <b>migrants die</b> in two shipwre...  \n9     OVER 200 <b>MIGRANTS DIE</b> IN SHIPWRECK OFF ...  \n10                                         Publications  \n11    Gambia football star who dreamed of playing fo...  \n12    At least 240 <b>migrants</b> and refugees <b>d...  \n13    At least 239 <b>migrants</b> believed drowned ...  \n14    Capsized boats in Mediterranean leave 240 <b>r...  \n15    Over 240 African <b>Migrants die</b> in Boat m...  \n16    Capsized boats in Mediterranean leave 240 <b>r...  \n17    Missionary in Jordan: God&#39;s mercy for <b>r...  \n18    More than 240 Refugees and <b>Migrants Dead</b...  \n19                               Taking <b>Refugees</b>  \n20    This musician captures the reality of the &#39...  \n21    <b>Refugee</b> returns from Kenya to Somalia: ...  \n22    UN <b>refugee</b> agency says survivor account...  \n23    Hundreds feared <b>dead</b> in <b>refugee</b> ...  \n24                  The Month in Pictures: October 2016  \n25    Hundreds Feared <b>Dead</b> In Sinking Of <b>R...  \n26                                                    2  \n27    Hundreds feared <b>dead</b> in <b>refugee</b> ...  \n28    Almost 240 feared <b>dead</b> after 2 migrant ...  \n29    UN says 239 <b>migrants die</b> in two shipwre...  \n...                                                 ...  \n2195                                                NaN  \n2196                                                NaN  \n2197                                                NaN  \n2198                                                NaN  \n2199                                                NaN  \n2200                                                NaN  \n2201                                                NaN  \n2202                                                NaN  \n2203                                                NaN  \n2204                                                NaN  \n2205                                                NaN  \n2206                                                NaN  \n2207                                                NaN  \n2208                                                NaN  \n2209                                                NaN  \n2210                                                NaN  \n2211                                                NaN  \n2212                                                NaN  \n2213                                                NaN  \n2214                                                NaN  \n2215                                                NaN  \n2216  Italy's threat to close ports from migrant res...  \n2217  Italy's threat to close ports from migrant res...  \n2218                                      Norma (Olive)  \n2219  Norma BURKE Death Notice - Wodonga, Victoria |...  \n2220  2420 people died or vanished trying to reach E...  \n2221  2420 people died or vanished trying to reach E...  \n2222  France Holds Migration Summit After Backtracki...  \n2223  France holds migration summit after backtracki...  \n2224  UPDATE 1-France holds migration summit after b...  \n\n[2225 rows x 10 columns]"
      ]
     },
     "execution_count": 141,
     "metadata": {},
     "output_type": "execute_result"
    }
   ],
   "source": [
    "df_tweets = df\n",
    "df._id"
   ]
  },
  {
   "cell_type": "code",
   "execution_count": 137,
   "metadata": {
    "autoscroll": false,
    "collapsed": false,
    "ein.tags": "worksheet-0",
    "slideshow": {
     "slide_type": "-"
    }
   },
   "outputs": [
    {
     "data": {
      "text/plain": [
       "<matplotlib.figure.Figure at 0x7f70ed7596d8>"
      ]
     },
     "metadata": {},
     "output_type": "display_data"
    },
    {
     "name": "stdout",
     "output_type": "stream",
     "text": [
      "0.944428253614 0.932963716412\n",
      "0.844908968307 0.95430312262 0.917741844611\n"
     ]
    }
   ],
   "source": [
    "model = lightgbm.LGBMClassifier(max_depth = 2, n_estimators = 100, reg_lambda = 0.4, reg_alpha = 0.4)\n",
    "_ = evaluate(model, word_count, df)"
   ]
  },
  {
   "cell_type": "code",
   "execution_count": 140,
   "metadata": {
    "autoscroll": false,
    "collapsed": false,
    "ein.tags": "worksheet-0",
    "slideshow": {
     "slide_type": "-"
    }
   },
   "outputs": [
    {
     "data": {
      "text/plain": [
       "LGBMClassifier(boosting_type='gbdt', colsample_bytree=1, learning_rate=0.1,\n        max_bin=255, max_depth=2, min_child_samples=10, min_child_weight=5,\n        min_split_gain=0, n_estimators=100, nthread=-1, num_leaves=31,\n        objective='binary', reg_alpha=0.4, reg_lambda=0.4, seed=0,\n        silent=True, subsample=1, subsample_for_bin=50000,\n        subsample_freq=1)"
      ]
     },
     "execution_count": 140,
     "metadata": {},
     "output_type": "execute_result"
    }
   ],
   "source": [
    "model"
   ]
  },
  {
   "cell_type": "code",
   "execution_count": 135,
   "metadata": {
    "autoscroll": false,
    "collapsed": false,
    "ein.tags": "worksheet-0",
    "slideshow": {
     "slide_type": "-"
    }
   },
   "outputs": [
    {
     "data": {
      "text/plain": [
       "<matplotlib.figure.Figure at 0x7f70edeacb70>"
      ]
     },
     "metadata": {},
     "output_type": "display_data"
    },
    {
     "name": "stdout",
     "output_type": "stream",
     "text": [
      "0.978473376403 0.975103886907\n",
      "0.845755022683 0.993907083016 0.94307632442\n"
     ]
    }
   ],
   "source": [
    "from sklearn import svm\n",
    "\n",
    "model = svm.LinearSVC()\n",
    "g,a,p = evaluate(model, word_count, df, 'decision_function')"
   ]
  },
  {
   "cell_type": "code",
   "execution_count": null,
   "metadata": {
    "autoscroll": false,
    "collapsed": false,
    "ein.tags": "worksheet-0",
    "slideshow": {
     "slide_type": "-"
    }
   },
   "outputs": [],
   "source": [
    "model = svm.OneClassSVM()\n",
    "g,a,p = evaluate(model, tfidf, df, 'decision_function')"
   ]
  },
  {
   "cell_type": "code",
   "execution_count": 136,
   "metadata": {
    "autoscroll": false,
    "collapsed": false,
    "ein.tags": "worksheet-0",
    "slideshow": {
     "slide_type": "-"
    }
   },
   "outputs": [
    {
     "data": {
      "text/plain": [
       "<matplotlib.figure.Figure at 0x7f70ed47f7b8>"
      ]
     },
     "metadata": {},
     "output_type": "display_data"
    },
    {
     "name": "stdout",
     "output_type": "stream",
     "text": [
      "0.974158413959 0.968473163106\n",
      "0.940221402214 0.970297029703 0.960840053374\n"
     ]
    }
   ],
   "source": [
    "model = MultinomialNB(alpha = .001, class_prior = [0.45,0.55])\n",
    "g, ans, preds = evaluate(model, word_count, df)"
   ]
  }
 ],
 "metadata": {
  "kernelspec": {
   "display_name": "Python 3",
   "name": "python3"
  },
  "name": "evaluation.ipynb"
 },
 "nbformat": 4,
 "nbformat_minor": 2
}
