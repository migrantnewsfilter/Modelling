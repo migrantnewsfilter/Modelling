{
 "cells": [
  {
   "cell_type": "code",
   "execution_count": 1,
   "metadata": {
    "autoscroll": false,
    "collapsed": false,
    "ein.tags": "worksheet-0",
    "slideshow": {
     "slide_type": "-"
    }
   },
   "outputs": [],
   "source": [
    "!pip install --upgrade --quiet pip \n",
    "!pip install -I --upgrade --quiet setuptools\n",
    "!pip install --upgrade --quiet tensorflow edward pymongo\n",
    "!pip install --quiet lightgbm"
   ]
  },
  {
   "cell_type": "code",
   "execution_count": 2,
   "metadata": {
    "autoscroll": false,
    "collapsed": false,
    "ein.tags": "worksheet-0",
    "slideshow": {
     "slide_type": "-"
    }
   },
   "outputs": [],
   "source": [
    "% matplotlib inline"
   ]
  },
  {
   "cell_type": "code",
   "execution_count": 3,
   "metadata": {
    "autoscroll": false,
    "collapsed": false,
    "ein.tags": "worksheet-0",
    "slideshow": {
     "slide_type": "-"
    }
   },
   "outputs": [],
   "source": [
    "%load_ext autoreload\n",
    "%autoreload 2"
   ]
  },
  {
   "cell_type": "code",
   "execution_count": 55,
   "metadata": {
    "autoscroll": false,
    "collapsed": false,
    "ein.tags": "worksheet-0",
    "slideshow": {
     "slide_type": "-"
    }
   },
   "outputs": [],
   "source": [
    "import fetch.fetch as fetch\n",
    "from edward.models import Normal\n",
    "from modelling.models import *\n",
    "from modelling.utils import get_articles\n",
    "import matplotlib.pyplot as plt\n",
    "import numpy as np\n",
    "from sklearn.ensemble import RandomForestClassifier\n",
    "from sklearn.metrics import *\n",
    "from pymongo import MongoClient\n",
    "from sklearn.model_selection import GridSearchCV\n",
    "from sklearn.metrics import fbeta_score, make_scorer\n",
    "import lightgbm"
   ]
  },
  {
   "cell_type": "code",
   "execution_count": 5,
   "metadata": {
    "autoscroll": false,
    "collapsed": false,
    "ein.tags": "worksheet-0",
    "slideshow": {
     "slide_type": "-"
    }
   },
   "outputs": [],
   "source": [
    "df = fetch.create_df(fetch.get_labelled_articles(\"209.177.92.45:80\"))"
   ]
  },
  {
   "cell_type": "code",
   "execution_count": null,
   "metadata": {
    "autoscroll": false,
    "collapsed": false,
    "ein.tags": "worksheet-0",
    "slideshow": {
     "slide_type": "-"
    }
   },
   "outputs": [],
   "source": [
    "# repro current oracle bug\n",
    "# collection = MongoClient(\"209.177.92.45:80\")['newsfilter'].news\n",
    "# l = get_articles(collection, label = True)\n",
    "# labels = map(lambda x: x['label'], l)\n",
    "# bodies = map(lambda x: x['content']['body'], l)\n",
    "# create_model(bodies, labels, [0.5,0.5])"
   ]
  },
  {
   "cell_type": "code",
   "execution_count": 126,
   "metadata": {
    "autoscroll": false,
    "collapsed": false,
    "ein.tags": "worksheet-0",
    "slideshow": {
     "slide_type": "-"
    }
   },
   "outputs": [],
   "source": [
    "from modelling.clustering import get_unique_items\n",
    "\n",
    "ge_unique = get_unique_items(df[df._id.str.contains('ge')], .1)\n",
    "tw_unique = get_unique_items(df[df._id.str.contains('tw')], 0.5)\n",
    "unique = pd.concat([ge_unique, tw_unique])\n",
    "v = vectorizer(unique)\n",
    "tfidf = create_tfidf(v, unique)\n",
    "word_count = create_word_count(unique).astype('float32')"
   ]
  },
  {
   "cell_type": "code",
   "execution_count": 127,
   "metadata": {
    "autoscroll": false,
    "collapsed": false,
    "ein.tags": "worksheet-0",
    "slideshow": {
     "slide_type": "-"
    }
   },
   "outputs": [],
   "source": [
    "from sklearn.model_selection import StratifiedKFold\n",
    "cv = StratifiedKFold(5, shuffle = True)\n",
    "\n",
    "def evaluate(model, tfidf, df, method = 'predict_proba'):\n",
    "    ans = [1 if l == 'accepted' else 0 for l in df.label]\n",
    "    probs = cross_val_predict(model, tfidf, ans, cv=cv, method=method)\n",
    "    predictions = cross_val_predict(model, tfidf, ans, cv=cv, method='predict')\n",
    "\n",
    "    probs = probs if method == 'decision_function' else [p[1] for p in probs] \n",
    "                           \n",
    "    print (average_precision_score(ans, probs), roc_auc_score(ans, probs, average = None))\n",
    "    print (precision_score(ans, predictions), recall_score(ans, predictions), fbeta_score(ans, predictions, beta = 1.5))\n",
    "    # precision, recall, _ = precision_recall_curve(ans, guess)\n",
    "    fpr, tpr, _ = roc_curve(ans, probs)\n",
    "    plt.step(fpr, tpr)\n",
    "    # plt.step(precision, recall)\n",
    "    return probs, ans, predictions"
   ]
  },
  {
   "cell_type": "code",
   "execution_count": null,
   "metadata": {
    "autoscroll": false,
    "collapsed": false,
    "ein.tags": "worksheet-0",
    "slideshow": {
     "slide_type": "-"
    }
   },
   "outputs": [],
   "source": [
    "scorer = make_scorer(fbeta_score, beta = 1.5, pos_label = 'accepted')\n",
    "parameters = [{ }]\n",
    "grid = GridSearchCV(lightgbm.LGBMClassifier(n_estimators = 100, reg_lambda = 0.6, reg_alpha = 0.2), parameters, scoring = scorer)\n",
    "# p,a,pr = evaluate(model, tfidf, df)\n",
    "grid.fit(word_count, unique.label)\n",
    "pd.DataFrame(grid.cv_results_).sort_values('rank_test_score')"
   ]
  },
  {
   "cell_type": "code",
   "execution_count": null,
   "metadata": {
    "autoscroll": false,
    "collapsed": false,
    "ein.tags": "worksheet-0",
    "slideshow": {
     "slide_type": "-"
    }
   },
   "outputs": [],
   "source": [
    "model = lightgbm.LGBMClassifier(n_estimators = 100, reg_lambda = 0.6, reg_alpha = 0.2)\n",
    "_ = evaluate(model, word_count, unique)"
   ]
  },
  {
   "cell_type": "code",
   "execution_count": null,
   "metadata": {
    "autoscroll": false,
    "collapsed": false,
    "ein.tags": "worksheet-0",
    "slideshow": {
     "slide_type": "-"
    }
   },
   "outputs": [],
   "source": [
    "model.fit(word_count, df.label)"
   ]
  },
  {
   "cell_type": "code",
   "execution_count": null,
   "metadata": {
    "autoscroll": false,
    "collapsed": false,
    "ein.tags": "worksheet-0",
    "slideshow": {
     "slide_type": "-"
    }
   },
   "outputs": [],
   "source": [
    "from sklearn.linear_model import LogisticRegression\n",
    "\n",
    "model = LogisticRegression()\n",
    "g, ans, preds = evaluate(model, word_count, unique)"
   ]
  },
  {
   "cell_type": "code",
   "execution_count": null,
   "metadata": {
    "autoscroll": false,
    "collapsed": false,
    "ein.tags": "worksheet-0",
    "slideshow": {
     "slide_type": "-"
    }
   },
   "outputs": [],
   "source": [
    "scorer = make_scorer(fbeta_score, beta = 1.5, pos_label = 'accepted')\n",
    "parameters = [{ }]\n",
    "model = svm.LinearSVC(dual = False, class_weight = 'balanced', C = 4., tol = 10e-6, max_iter = 4000)\n",
    "grid = GridSearchCV(model, parameters, scoring = scorer)\n",
    "# p,a,pr = evaluate(model, tfidf, df)\n",
    "grid.fit(word_count, unique.label)\n",
    "pd.DataFrame(grid.cv_results_).sort_values('rank_test_score')"
   ]
  },
  {
   "cell_type": "code",
   "execution_count": 192,
   "metadata": {
    "autoscroll": false,
    "collapsed": false,
    "ein.tags": "worksheet-0",
    "slideshow": {
     "slide_type": "slide"
    }
   },
   "outputs": [
    {
     "data": {
      "text/plain": [
       "<matplotlib.figure.Figure at 0x7fd1866d3240>"
      ]
     },
     "metadata": {},
     "output_type": "display_data"
    },
    {
     "name": "stdout",
     "output_type": "stream",
     "text": [
      "0.818509120245 0.880303234501\n",
      "0.835714285714 0.668571428571 0.712412177986\n"
     ]
    }
   ],
   "source": [
    "from sklearn import svm\n",
    "\n",
    "model = svm.LinearSVC(dual = False,  tol = 10e-6, max_iter = 4000, class_weight = 'balanced')\n",
    "g,a,p = evaluate(model, word_count, unique, 'decision_function')"
   ]
  },
  {
   "cell_type": "code",
   "execution_count": null,
   "metadata": {
    "autoscroll": false,
    "collapsed": false,
    "ein.tags": "worksheet-0",
    "slideshow": {
     "slide_type": "-"
    }
   },
   "outputs": [],
   "source": [
    "model = svm.OneClassSVM()\n",
    "g,a,p = evaluate(model, tfidf, unique, 'decision_function')"
   ]
  },
  {
   "cell_type": "code",
   "execution_count": 130,
   "metadata": {
    "autoscroll": false,
    "collapsed": false,
    "ein.tags": "worksheet-0",
    "slideshow": {
     "slide_type": "-"
    }
   },
   "outputs": [
    {
     "data": {
      "text/plain": [
       "<matplotlib.figure.Figure at 0x7fd186795b38>"
      ]
     },
     "metadata": {},
     "output_type": "display_data"
    },
    {
     "name": "stdout",
     "output_type": "stream",
     "text": [
      "0.789992610346 0.856590296496\n",
      "0.417553191489 0.897142857143 0.662877557649\n"
     ]
    }
   ],
   "source": [
    "model = MultinomialNB(alpha = .001, class_prior = [.5,.5])\n",
    "g, ans, preds = evaluate(model, word_count, unique)"
   ]
  },
  {
   "cell_type": "code",
   "execution_count": null,
   "metadata": {
    "autoscroll": false,
    "collapsed": false,
    "ein.tags": "worksheet-0",
    "slideshow": {
     "slide_type": "-"
    }
   },
   "outputs": [],
   "source": [
    "model.fit(tfidf, df.label)\n",
    "\n",
    "# model.feature_log_prob_\n",
    "sorted(zip(model.feature_log_prob_[0], v.get_feature_names()))[-50:]"
   ]
  }
 ],
 "metadata": {
  "kernelspec": {
   "display_name": "Python 3",
   "name": "python3"
  },
  "name": "evaluation.ipynb"
 },
 "nbformat": 4,
 "nbformat_minor": 2
}
