{
 "cells": [
  {
   "cell_type": "code",
   "execution_count": 1,
   "metadata": {
    "autoscroll": false,
    "collapsed": false,
    "ein.tags": "worksheet-0",
    "slideshow": {
     "slide_type": "-"
    }
   },
   "outputs": [],
   "source": [
    "!pip install --quiet mxnet"
   ]
  },
  {
   "cell_type": "code",
   "execution_count": 5,
   "metadata": {
    "autoscroll": false,
    "collapsed": false,
    "ein.tags": "worksheet-0",
    "slideshow": {
     "slide_type": "-"
    }
   },
   "outputs": [],
   "source": [
    "import warnings\n",
    "warnings.filterwarnings('ignore')\n",
    "import mxnet as mx\n",
    "import fetch.fetch as fetch\n",
    "from mxnet import nd, autograd\n",
    "mx.random.seed(1)"
   ]
  },
  {
   "cell_type": "code",
   "execution_count": 6,
   "metadata": {
    "autoscroll": false,
    "collapsed": false,
    "ein.tags": "worksheet-0",
    "slideshow": {
     "slide_type": "-"
    }
   },
   "outputs": [],
   "source": [
    "df = fetch.create_df(fetch.get_labelled_articles(\"209.177.92.45:80\"))\n",
    "ga = df[df._id.str.contains('ge')]\n",
    "tweets = df[df._id.str.contains('tw')]\n",
    "tweets = tweets[tweets.body.str.contains('travel ban') == False]"
   ]
  },
  {
   "cell_type": "code",
   "execution_count": 326,
   "metadata": {
    "autoscroll": false,
    "collapsed": false,
    "ein.tags": "worksheet-0",
    "slideshow": {
     "slide_type": "-"
    }
   },
   "outputs": [],
   "source": [
    "import pandas as pd\n",
    "\n",
    "from sklearn.preprocessing import scale\n",
    "\n",
    "housing = pd.read_csv('mxnet-data/kc_house_data.csv')\n",
    "\n",
    "# housing set as years from min... \n",
    "# housing['yr_built'] -= housing['yr_built'].min()\n",
    "X = housing[['sqft_living', 'sqft_lot', 'bathrooms', 'yr_built', 'bedrooms']].as_matrix()\n",
    "X = scale(X)\n",
    "\n",
    "# log prices is probably what we care about\n",
    "y = scale(np.log(housing.price.as_matrix()))\n",
    "\n",
    "train_data = mx.gluon.data.DataLoader(mx.gluon.data.ArrayDataset(X, y), batch_size=4)"
   ]
  },
  {
   "cell_type": "code",
   "execution_count": 54,
   "metadata": {
    "autoscroll": false,
    "collapsed": false,
    "ein.tags": "worksheet-0",
    "slideshow": {
     "slide_type": "-"
    }
   },
   "outputs": [],
   "source": [
    "w = nd.random_normal(shape=(X.shape[1], 1), dtype=float)\n",
    "b = nd.random_normal(shape=1, dtype=float)\n",
    "params = [w, b]\n",
    "\n",
    "for param in params:\n",
    "    param.attach_grad()\n",
    "\n",
    "def net(X, params):\n",
    "    return mx.nd.dot(X, params[0]) + params[1]\n",
    "\n",
    "def square_loss(yhat, y):\n",
    "    return nd.mean((yhat - y) ** 2)\n",
    "\n",
    "def SGD(params, lr):\n",
    "    for param in params:\n",
    "        param[:] = param - lr * param.grad"
   ]
  },
  {
   "cell_type": "code",
   "execution_count": 41,
   "metadata": {
    "autoscroll": false,
    "collapsed": false,
    "ein.tags": "worksheet-0",
    "slideshow": {
     "slide_type": "-"
    }
   },
   "outputs": [
    {
     "data": {
      "text/plain": [
       "[\n",
       " [[-0.2611377 ]\n",
       "  [-0.20703205]\n",
       "  [-1.24573995]\n",
       "  [-1.96754877]\n",
       "  [ 0.34168572]]\n",
       " <NDArray 5x1 @cpu(0)>, \n",
       " [-0.92148392]\n",
       " <NDArray 1 @cpu(0)>]"
      ]
     },
     "execution_count": 41,
     "metadata": {},
     "output_type": "execute_result"
    }
   ],
   "source": [
    "params"
   ]
  },
  {
   "cell_type": "code",
   "execution_count": 112,
   "metadata": {
    "autoscroll": false,
    "collapsed": false,
    "ein.tags": "worksheet-0",
    "slideshow": {
     "slide_type": "-"
    }
   },
   "outputs": [
    {
     "name": "stdout",
     "output_type": "stream",
     "text": [
      "Epoch 0, batch 2000. Moving avg of loss: 0.291221741238\n"
     ]
    },
    {
     "name": "stdout",
     "output_type": "stream",
     "text": [
      "Epoch 1, batch 2000. Moving avg of loss: 0.291221741238\n"
     ]
    },
    {
     "name": "stdout",
     "output_type": "stream",
     "text": [
      "Epoch 2, batch 2000. Moving avg of loss: 0.291221741238\n"
     ]
    },
    {
     "name": "stdout",
     "output_type": "stream",
     "text": [
      "Epoch 3, batch 2000. Moving avg of loss: 0.291221741238\n"
     ]
    },
    {
     "name": "stdout",
     "output_type": "stream",
     "text": [
      "Epoch 4, batch 2000. Moving avg of loss: 0.291221741238\n"
     ]
    }
   ],
   "source": [
    "epochs = 5\n",
    "ctx = mx.cpu()\n",
    "learning_rate = .001\n",
    "smoothing_constant = .01\n",
    "\n",
    "\n",
    "for e in range(epochs):\n",
    "    for i, (data, label) in enumerate(train_data):\n",
    "        data = data.as_in_context(ctx)\n",
    "        label = label.as_in_context(ctx).reshape((-1, 1))\n",
    "        with autograd.record():\n",
    "            output = net(data, params)\n",
    "            loss = square_loss(output, label)\n",
    "        loss.backward()\n",
    "        SGD(params, learning_rate)\n",
    "        ##########################\n",
    "        #  Keep a moving average of the losses\n",
    "        ##########################\n",
    "        curr_loss = nd.mean(loss).asscalar()\n",
    "        moving_loss = (curr_loss if ((i == 0) and (e == 0))\n",
    "                       else (1 - smoothing_constant) * moving_loss + (smoothing_constant) * curr_loss)\n",
    "\n",
    "        if i == 2000:\n",
    "            print(\"Epoch %s, batch %s. Moving avg of loss: %s\" % (e, i, curr_loss))"
   ]
  },
  {
   "cell_type": "code",
   "execution_count": 168,
   "metadata": {
    "autoscroll": false,
    "collapsed": false,
    "ein.tags": "worksheet-0",
    "slideshow": {
     "slide_type": "-"
    }
   },
   "outputs": [
    {
     "name": "stdout",
     "output_type": "stream",
     "text": [
      "[ 0.6755889  -0.0206198   0.22149048 -0.22595775 -0.12480304] -1.90226971031e-15\n",
      "0.528605581373\n"
     ]
    },
    {
     "data": {
      "text/plain": [
       "0.50899433708531561"
      ]
     },
     "execution_count": 168,
     "metadata": {},
     "output_type": "execute_result"
    }
   ],
   "source": [
    "from sklearn.linear_model import LinearRegression\n",
    "\n",
    "model = LinearRegression()\n",
    "model.fit(X, y)\n",
    "print(model.coef_, model.intercept_)\n",
    "print(model.score(X, y))\n",
    "\n",
    "model.coef_ = params[0].asnumpy().reshape((5))\n",
    "model.intercept_ = params[1].asnumpy()[0]\n",
    "model.score(X, y)"
   ]
  },
  {
   "cell_type": "code",
   "execution_count": 160,
   "metadata": {
    "autoscroll": false,
    "collapsed": false,
    "ein.tags": "worksheet-0",
    "slideshow": {
     "slide_type": "-"
    }
   },
   "outputs": [
    {
     "data": {
      "text/plain": [
       "sequential23_ (\n",
       "  Parameter sequential23_dense0_weight (shape=(1, 0), dtype=float64)\n",
       "  Parameter sequential23_dense0_bias (shape=(1,), dtype=float64)\n",
       ")"
      ]
     },
     "execution_count": 160,
     "metadata": {},
     "output_type": "execute_result"
    }
   ],
   "source": [
    "from mxnet import gluon\n",
    "batch_size = 4\n",
    "\n",
    "ctx = mx.cpu()\n",
    "net = gluon.nn.Sequential()\n",
    "square_loss = gluon.loss.L2Loss()\n",
    "\n",
    "with net.name_scope():\n",
    "    net.add(gluon.nn.Dense(1))\n",
    "\n",
    "net.collect_params().setattr('dtype', 'float64')\n",
    "net.collect_params().initialize(mx.init.Normal(sigma=1.), ctx=ctx)\n",
    "\n",
    "trainer = gluon.Trainer(net.collect_params(), 'sgd', {'learning_rate': 0.1})\n",
    "\n",
    "net.collect_params()"
   ]
  },
  {
   "cell_type": "code",
   "execution_count": 161,
   "metadata": {
    "autoscroll": false,
    "collapsed": false,
    "ein.tags": "worksheet-0",
    "slideshow": {
     "slide_type": "-"
    }
   },
   "outputs": [
    {
     "name": "stdout",
     "output_type": "stream",
     "text": [
      "Epoch 0. Moving avg of MSE: 0.209680460193\n"
     ]
    },
    {
     "name": "stdout",
     "output_type": "stream",
     "text": [
      "Epoch 1. Moving avg of MSE: 0.209680460193\n"
     ]
    }
   ],
   "source": [
    "epochs = 2\n",
    "smoothing_constant = .01\n",
    "\n",
    "for e in range(epochs):\n",
    "    for i, (data, label) in enumerate(train_data):\n",
    "        data = data.as_in_context(ctx)\n",
    "        label = label.as_in_context(ctx)\n",
    "        with autograd.record():\n",
    "            output = net(data)\n",
    "            loss = square_loss(output, label)\n",
    "        loss.backward()\n",
    "        trainer.step(4)\n",
    "\n",
    "        ##########################\n",
    "        #  Keep a moving average of the losses\n",
    "        ##########################\n",
    "        curr_loss = nd.mean(loss).asscalar()\n",
    "        moving_loss = (curr_loss if ((i == 0) and (e == 0))\n",
    "                       else (1 - smoothing_constant) * moving_loss + (smoothing_constant) * curr_loss)\n",
    "\n",
    "    print(\"Epoch %s. Moving avg of MSE: %s\" % (e, moving_loss))"
   ]
  },
  {
   "cell_type": "code",
   "execution_count": 172,
   "metadata": {
    "autoscroll": false,
    "collapsed": false,
    "ein.tags": "worksheet-0",
    "slideshow": {
     "slide_type": "-"
    }
   },
   "outputs": [
    {
     "data": {
      "text/plain": [
       "[\n",
       " [[ 0.6366786   0.07320998  0.20614176  0.01330564 -0.17872601]]\n",
       " <NDArray 1x5 @cpu(0)>, \n",
       " [ 0.04198348]\n",
       " <NDArray 1 @cpu(0)>]"
      ]
     },
     "execution_count": 172,
     "metadata": {},
     "output_type": "execute_result"
    }
   ],
   "source": [
    "[p.data() for k,p in net.collect_params().items()]"
   ]
  },
  {
   "cell_type": "code",
   "execution_count": null,
   "metadata": {
    "autoscroll": false,
    "collapsed": false,
    "ein.tags": "worksheet-0",
    "slideshow": {
     "slide_type": "-"
    }
   },
   "outputs": [],
   "source": [
    "df = fetch.create_df(fetch.get_labelled_articles(\"209.177.92.45:80\"))\n",
    "df['label'] = [1 if l == 'accepted' else 0 for l in df.label]"
   ]
  },
  {
   "cell_type": "code",
   "execution_count": 186,
   "metadata": {
    "autoscroll": false,
    "collapsed": false,
    "ein.tags": "worksheet-0",
    "slideshow": {
     "slide_type": "-"
    }
   },
   "outputs": [],
   "source": [
    "from modelling.models import *\n",
    "word_count = create_word_count(df)"
   ]
  },
  {
   "cell_type": "code",
   "execution_count": null,
   "metadata": {
    "autoscroll": false,
    "collapsed": false,
    "ein.tags": "worksheet-0",
    "slideshow": {
     "slide_type": "-"
    }
   },
   "outputs": [],
   "source": [
    "from sklearn.model_selection import train_test_split\n",
    "\n",
    "y = df.label.as_matrix()\n",
    "X = np.asarray(word_count.todense())\n",
    "X_train, X_test, y_train, y_test\n",
    "train_data = mx.gluon.data.DataLoader(mx.gluon.data.ArrayDataset(X, y), batch_size=4)"
   ]
  },
  {
   "cell_type": "code",
   "execution_count": 442,
   "metadata": {
    "autoscroll": false,
    "collapsed": false,
    "ein.tags": "worksheet-0",
    "slideshow": {
     "slide_type": "-"
    }
   },
   "outputs": [],
   "source": [
    "w = nd.random_normal(shape=(X.shape[1], 1), dtype = 'float64')\n",
    "b = nd.random_normal(shape=1, dtype = 'float64')\n",
    "params = [w, b]\n",
    "\n",
    "for param in params:\n",
    "    param.attach_grad()\n",
    "\n",
    "def logistic(x):\n",
    "    return 1 / (1 + nd.exp(-x))\n",
    "\n",
    "def net(X):\n",
    "    y_linear = nd.dot(X, w) + b\n",
    "    yhat = logistic(y_linear)\n",
    "    return yhat\n",
    "\n",
    "def cross_entropy(yhat, y):\n",
    "    like = (1-y)*nd.log(1 - yhat) + y*nd.log(yhat) \n",
    "    return -like\n",
    "\n",
    "def SGD(params, lr):\n",
    "    for param in params:\n",
    "        param[:] = param - lr * param.grad"
   ]
  },
  {
   "cell_type": "code",
   "execution_count": 452,
   "metadata": {
    "autoscroll": false,
    "collapsed": false,
    "ein.tags": "worksheet-0",
    "slideshow": {
     "slide_type": "-"
    }
   },
   "outputs": [],
   "source": [
    "def evaluate_accuracy(data_iterator, net):\n",
    "    numerator = 0.\n",
    "    denominator = 0.\n",
    "    for i, (data, label) in enumerate(data_iterator):\n",
    "        data = data.as_in_context(ctx)\n",
    "        label = label.as_in_context(ctx)\n",
    "        output = net(data)\n",
    "        predictions = nd.round(output).astype(int).reshape((4,))\n",
    "        numerator += nd.sum(predictions == label)\n",
    "        denominator += data.shape[0]\n",
    "    return (numerator.asscalar() / denominator)"
   ]
  },
  {
   "cell_type": "code",
   "execution_count": 414,
   "metadata": {
    "autoscroll": false,
    "collapsed": false,
    "ein.tags": "worksheet-0",
    "slideshow": {
     "slide_type": "-"
    }
   },
   "outputs": [
    {
     "data": {
      "text/plain": [
       "0.62776484284051226"
      ]
     },
     "execution_count": 414,
     "metadata": {},
     "output_type": "execute_result"
    }
   ],
   "source": [
    "evaluate_accuracy(train_data, net)"
   ]
  },
  {
   "cell_type": "code",
   "execution_count": null,
   "metadata": {
    "autoscroll": false,
    "collapsed": false,
    "ein.tags": "worksheet-0",
    "slideshow": {
     "slide_type": "-"
    }
   },
   "outputs": [],
   "source": [
    "epochs = 10\n",
    "moving_loss = 0.\n",
    "learning_rate = .01\n",
    "smoothing_constant = .01\n",
    "\n",
    "for e in range(epochs):\n",
    "    for i, (data, label) in enumerate(train_data):\n",
    "        data = data.as_in_context(ctx)\n",
    "        label = label.as_in_context(ctx).astype(float)\n",
    "        with autograd.record():\n",
    "            output = net(data)[:,0]\n",
    "            loss = cross_entropy(output, label)\n",
    "        loss.backward()\n",
    "        SGD(params, learning_rate)\n",
    "\n",
    "        ##########################\n",
    "        #  Keep a moving average of the losses\n",
    "        ##########################\n",
    "        curr_loss = nd.mean(loss).asscalar()\n",
    "        moving_loss = (curr_loss if ((i == 0) and (e == 0))\n",
    "                       else (1 - smoothing_constant) * moving_loss + (smoothing_constant) * curr_loss)\n",
    "\n",
    "    train_accuracy = evaluate_accuracy(train_data, net)\n",
    "    print(\"Epoch %s. Loss: %s, Train_acc %s\" % (e, moving_loss, train_accuracy))"
   ]
  }
 ],
 "metadata": {
  "kernelspec": {
   "display_name": "Python 3",
   "name": "python3"
  },
  "language_info": {
   "codemirror_mode": {
    "name": "ipython",
    "version": 3
   },
   "file_extension": ".py",
   "mimetype": "text/x-python",
   "name": "python",
   "nbconvert_exporter": "python",
   "pygments_lexer": "ipython3",
   "version": "3.5.2"
  },
  "name": "mxnet-test.ipynb"
 },
 "nbformat": 4,
 "nbformat_minor": 2
}
